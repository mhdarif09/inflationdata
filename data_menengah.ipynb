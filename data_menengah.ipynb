{
 "cells": [
  {
   "cell_type": "code",
   "execution_count": 1,
   "metadata": {},
   "outputs": [],
   "source": [
    "import pandas as pd\n",
    "import numpy as np\n",
    "import os\n",
    "import warnings\n",
    "warnings.filterwarnings('ignore')\n"
   ]
  },
  {
   "cell_type": "markdown",
   "metadata": {},
   "source": [
    "### IMPORT DATA"
   ]
  },
  {
   "cell_type": "code",
   "execution_count": 2,
   "metadata": {},
   "outputs": [],
   "source": [
    "df_menengah_20 = pd.read_csv('./fix_dataset/dataset_InflasiPendidikan/Inflasi Pendidikan 2020-Menengah.csv')\n",
    "df_menengah_21 = pd.read_csv('./fix_dataset/dataset_InflasiPendidikan/Inflasi Pendidikan 2021-Menengah.csv')\n",
    "df_menengah_22 = pd.read_csv('./fix_dataset/dataset_InflasiPendidikan/Inflasi Pendidikan 2022-Menengah.csv')\n",
    "df_menengah_23 = pd.read_csv('./fix_dataset/dataset_InflasiPendidikan/Inflasi Pendidikan 2023-Menengah.csv')"
   ]
  },
  {
   "cell_type": "markdown",
   "metadata": {},
   "source": [
    "### DATA CLEANING"
   ]
  },
  {
   "cell_type": "markdown",
   "metadata": {},
   "source": [
    "* Merge Data\n",
    "* Check Null, Unique, Object, etc from Data"
   ]
  },
  {
   "cell_type": "code",
   "execution_count": 3,
   "metadata": {},
   "outputs": [
    {
     "data": {
      "text/plain": [
       "(91, 13)"
      ]
     },
     "execution_count": 3,
     "metadata": {},
     "output_type": "execute_result"
    }
   ],
   "source": [
    "df_menengah_20.shape"
   ]
  },
  {
   "cell_type": "code",
   "execution_count": 4,
   "metadata": {},
   "outputs": [
    {
     "data": {
      "text/html": [
       "<div>\n",
       "<style scoped>\n",
       "    .dataframe tbody tr th:only-of-type {\n",
       "        vertical-align: middle;\n",
       "    }\n",
       "\n",
       "    .dataframe tbody tr th {\n",
       "        vertical-align: top;\n",
       "    }\n",
       "\n",
       "    .dataframe thead th {\n",
       "        text-align: right;\n",
       "    }\n",
       "</style>\n",
       "<table border=\"1\" class=\"dataframe\">\n",
       "  <thead>\n",
       "    <tr style=\"text-align: right;\">\n",
       "      <th></th>\n",
       "      <th>Kota</th>\n",
       "      <th>01/01/2020</th>\n",
       "      <th>01/02/2020</th>\n",
       "      <th>01/03/2020</th>\n",
       "      <th>01/04/2020</th>\n",
       "      <th>01/05/2020</th>\n",
       "      <th>01/06/2020</th>\n",
       "      <th>01/07/2020</th>\n",
       "      <th>01/08/2020</th>\n",
       "      <th>01/09/2020</th>\n",
       "      <th>...</th>\n",
       "      <th>01/03/2023</th>\n",
       "      <th>01/04/2023</th>\n",
       "      <th>01/05/2023</th>\n",
       "      <th>01/06/2023</th>\n",
       "      <th>01/07/2023</th>\n",
       "      <th>01/08/2023</th>\n",
       "      <th>01/09/2023</th>\n",
       "      <th>01/10/2023</th>\n",
       "      <th>01/11/2023</th>\n",
       "      <th>01/12/2023</th>\n",
       "    </tr>\n",
       "  </thead>\n",
       "  <tbody>\n",
       "    <tr>\n",
       "      <th>0</th>\n",
       "      <td>KOTA MEULABOH</td>\n",
       "      <td>0.0</td>\n",
       "      <td>0.0</td>\n",
       "      <td>0.0</td>\n",
       "      <td>0.0</td>\n",
       "      <td>0.0</td>\n",
       "      <td>0.0</td>\n",
       "      <td>4.23</td>\n",
       "      <td>0.00</td>\n",
       "      <td>0.00</td>\n",
       "      <td>...</td>\n",
       "      <td>0.0</td>\n",
       "      <td>0.0</td>\n",
       "      <td>0.0</td>\n",
       "      <td>0.0</td>\n",
       "      <td>0.0</td>\n",
       "      <td>0.00</td>\n",
       "      <td>0.0</td>\n",
       "      <td>0.0</td>\n",
       "      <td>NaN</td>\n",
       "      <td>NaN</td>\n",
       "    </tr>\n",
       "    <tr>\n",
       "      <th>1</th>\n",
       "      <td>KOTA BANDA ACEH</td>\n",
       "      <td>0.0</td>\n",
       "      <td>0.0</td>\n",
       "      <td>0.0</td>\n",
       "      <td>0.0</td>\n",
       "      <td>0.0</td>\n",
       "      <td>0.0</td>\n",
       "      <td>0.00</td>\n",
       "      <td>0.00</td>\n",
       "      <td>-0.08</td>\n",
       "      <td>...</td>\n",
       "      <td>0.0</td>\n",
       "      <td>0.0</td>\n",
       "      <td>0.0</td>\n",
       "      <td>0.0</td>\n",
       "      <td>0.0</td>\n",
       "      <td>0.00</td>\n",
       "      <td>0.0</td>\n",
       "      <td>0.0</td>\n",
       "      <td>NaN</td>\n",
       "      <td>NaN</td>\n",
       "    </tr>\n",
       "    <tr>\n",
       "      <th>2</th>\n",
       "      <td>KOTA LHOKSEUMAWE</td>\n",
       "      <td>0.0</td>\n",
       "      <td>0.0</td>\n",
       "      <td>0.0</td>\n",
       "      <td>0.0</td>\n",
       "      <td>0.0</td>\n",
       "      <td>0.0</td>\n",
       "      <td>0.29</td>\n",
       "      <td>0.00</td>\n",
       "      <td>0.00</td>\n",
       "      <td>...</td>\n",
       "      <td>0.0</td>\n",
       "      <td>0.0</td>\n",
       "      <td>0.0</td>\n",
       "      <td>0.0</td>\n",
       "      <td>0.0</td>\n",
       "      <td>0.10</td>\n",
       "      <td>0.0</td>\n",
       "      <td>0.0</td>\n",
       "      <td>NaN</td>\n",
       "      <td>NaN</td>\n",
       "    </tr>\n",
       "    <tr>\n",
       "      <th>3</th>\n",
       "      <td>KOTA SIBOLGA</td>\n",
       "      <td>0.0</td>\n",
       "      <td>0.0</td>\n",
       "      <td>0.0</td>\n",
       "      <td>0.0</td>\n",
       "      <td>0.0</td>\n",
       "      <td>0.0</td>\n",
       "      <td>0.00</td>\n",
       "      <td>0.02</td>\n",
       "      <td>0.00</td>\n",
       "      <td>...</td>\n",
       "      <td>0.0</td>\n",
       "      <td>0.0</td>\n",
       "      <td>0.0</td>\n",
       "      <td>0.0</td>\n",
       "      <td>0.0</td>\n",
       "      <td>3.16</td>\n",
       "      <td>0.0</td>\n",
       "      <td>0.0</td>\n",
       "      <td>NaN</td>\n",
       "      <td>NaN</td>\n",
       "    </tr>\n",
       "    <tr>\n",
       "      <th>4</th>\n",
       "      <td>KOTA PEMATANG SIANTAR</td>\n",
       "      <td>0.0</td>\n",
       "      <td>0.0</td>\n",
       "      <td>0.0</td>\n",
       "      <td>0.0</td>\n",
       "      <td>0.0</td>\n",
       "      <td>0.0</td>\n",
       "      <td>0.00</td>\n",
       "      <td>0.32</td>\n",
       "      <td>0.00</td>\n",
       "      <td>...</td>\n",
       "      <td>0.0</td>\n",
       "      <td>0.0</td>\n",
       "      <td>0.0</td>\n",
       "      <td>0.0</td>\n",
       "      <td>0.0</td>\n",
       "      <td>0.92</td>\n",
       "      <td>0.0</td>\n",
       "      <td>0.0</td>\n",
       "      <td>NaN</td>\n",
       "      <td>NaN</td>\n",
       "    </tr>\n",
       "  </tbody>\n",
       "</table>\n",
       "<p>5 rows × 49 columns</p>\n",
       "</div>"
      ],
      "text/plain": [
       "                    Kota  01/01/2020  01/02/2020  01/03/2020  01/04/2020  \\\n",
       "0          KOTA MEULABOH         0.0         0.0         0.0         0.0   \n",
       "1        KOTA BANDA ACEH         0.0         0.0         0.0         0.0   \n",
       "2       KOTA LHOKSEUMAWE         0.0         0.0         0.0         0.0   \n",
       "3           KOTA SIBOLGA         0.0         0.0         0.0         0.0   \n",
       "4  KOTA PEMATANG SIANTAR         0.0         0.0         0.0         0.0   \n",
       "\n",
       "   01/05/2020  01/06/2020  01/07/2020  01/08/2020  01/09/2020  ...  \\\n",
       "0         0.0         0.0        4.23        0.00        0.00  ...   \n",
       "1         0.0         0.0        0.00        0.00       -0.08  ...   \n",
       "2         0.0         0.0        0.29        0.00        0.00  ...   \n",
       "3         0.0         0.0        0.00        0.02        0.00  ...   \n",
       "4         0.0         0.0        0.00        0.32        0.00  ...   \n",
       "\n",
       "   01/03/2023  01/04/2023  01/05/2023  01/06/2023  01/07/2023  01/08/2023  \\\n",
       "0         0.0         0.0         0.0         0.0         0.0        0.00   \n",
       "1         0.0         0.0         0.0         0.0         0.0        0.00   \n",
       "2         0.0         0.0         0.0         0.0         0.0        0.10   \n",
       "3         0.0         0.0         0.0         0.0         0.0        3.16   \n",
       "4         0.0         0.0         0.0         0.0         0.0        0.92   \n",
       "\n",
       "   01/09/2023  01/10/2023  01/11/2023  01/12/2023  \n",
       "0         0.0         0.0         NaN         NaN  \n",
       "1         0.0         0.0         NaN         NaN  \n",
       "2         0.0         0.0         NaN         NaN  \n",
       "3         0.0         0.0         NaN         NaN  \n",
       "4         0.0         0.0         NaN         NaN  \n",
       "\n",
       "[5 rows x 49 columns]"
      ]
     },
     "execution_count": 4,
     "metadata": {},
     "output_type": "execute_result"
    }
   ],
   "source": [
    "temp1 = pd.merge(df_menengah_20, df_menengah_21, on='Kota')\n",
    "temp2 = pd.merge(df_menengah_22, df_menengah_23, on='Kota')\n",
    "df_menengah = pd.merge(temp1, temp2, on='Kota')\n",
    "df_menengah.head()"
   ]
  },
  {
   "cell_type": "code",
   "execution_count": 5,
   "metadata": {},
   "outputs": [],
   "source": [
    "temp = df_menengah.melt(id_vars=['Kota'], var_name='Date', value_name='InflationRate')\n",
    "temp['Date'] = pd.to_datetime(temp['Date'], format='%d/%m/%Y')\n",
    "temp['Year'] = temp['Date'].dt.year\n",
    "temp['Month'] = temp['Date'].dt.month\n",
    "temp.drop('Date', axis=1, inplace=True)\n",
    "df_menengah = temp[['Kota', 'Year', 'Month', 'InflationRate']]"
   ]
  },
  {
   "cell_type": "code",
   "execution_count": 6,
   "metadata": {},
   "outputs": [
    {
     "data": {
      "text/plain": [
       "array(['KOTA MEULABOH', 'KOTA BANDA ACEH', 'KOTA LHOKSEUMAWE',\n",
       "       'KOTA SIBOLGA', 'KOTA PEMATANG SIANTAR', 'KOTA MEDAN',\n",
       "       'KOTA PADANGSIDIMPUAN', 'KOTA GUNUNGSITOLI', 'KOTA PADANG',\n",
       "       'KOTA BUKITTINGGI', 'TEMBILAHAN', 'KOTA PEKANBARU', 'KOTA DUMAI',\n",
       "       'BUNGO', 'KOTA JAMBI', 'KOTA PALEMBANG', 'KOTA LUBUKLINGGAU',\n",
       "       'KOTA BENGKULU', 'KOTA BANDAR LAMPUNG', 'KOTA METRO',\n",
       "       'TANJUNG PANDAN', 'KOTA PANGKAL PINANG', 'KOTA BATAM',\n",
       "       'KOTA TANJUNG PINANG', 'DKI JAKARTA', 'KOTA BOGOR',\n",
       "       'KOTA SUKABUMI', 'KOTA BANDUNG', 'KOTA CIREBON', 'KOTA BEKASI',\n",
       "       'KOTA DEPOK', 'KOTA TASIKMALAYA', 'CILACAP', 'PURWOKERTO', 'KUDUS',\n",
       "       'KOTA SURAKARTA', 'KOTA SEMARANG', 'KOTA TEGAL', 'KOTA YOGYAKARTA',\n",
       "       'JEMBER', 'BANYUWANGI', 'SUMENEP', 'KOTA KEDIRI', 'KOTA MALANG',\n",
       "       'KOTA PROBOLINGGO', 'KOTA MADIUN', 'KOTA SURABAYA',\n",
       "       'KOTA TANGERANG', 'KOTA CILEGON', 'KOTA SERANG', 'SINGARAJA',\n",
       "       'KOTA DENPASAR', 'KOTA MATARAM', 'KOTA BIMA', 'WAINGAPU',\n",
       "       'MAUMERE', 'KOTA KUPANG', 'SINTANG', 'KOTA PONTIANAK',\n",
       "       'KOTA SINGKAWANG', 'SAMPIT', 'KOTA PALANGKA RAYA', 'KOTA BARU',\n",
       "       'TANJUNG', 'KOTA BANJARMASIN', 'KOTA BALIKPAPAN', 'KOTA SAMARINDA',\n",
       "       'TANJUNG SELOR', 'KOTA TARAKAN', 'KOTA MANADO', 'KOTA KOTAMOBAGU',\n",
       "       'LUWUK', 'KOTA PALU', 'BULUKUMBA', 'WATAMPONE', 'KOTA MAKASSAR',\n",
       "       'KOTA PARE-PARE', 'KOTA PALOPO', 'KOTA KENDARI', 'KOTA BUA-BAU',\n",
       "       'KOTA GORONTALO', 'MAMUJU', 'KOTA AMBON', 'KOTA TUAL',\n",
       "       'KOTA TERNATE', 'MANOKWARI', 'KOTA SORONG', 'MERAUKE', 'TIMIKA',\n",
       "       'KOTA JAYAPURA', 'INDONESIA'], dtype=object)"
      ]
     },
     "execution_count": 6,
     "metadata": {},
     "output_type": "execute_result"
    }
   ],
   "source": [
    "df_menengah['Kota'].unique()"
   ]
  },
  {
   "cell_type": "code",
   "execution_count": 7,
   "metadata": {},
   "outputs": [
    {
     "data": {
      "text/plain": [
       "Kota               0\n",
       "Year               0\n",
       "Month              0\n",
       "InflationRate    182\n",
       "dtype: int64"
      ]
     },
     "execution_count": 7,
     "metadata": {},
     "output_type": "execute_result"
    }
   ],
   "source": [
    "df_menengah.isnull().sum()"
   ]
  },
  {
   "cell_type": "code",
   "execution_count": 8,
   "metadata": {},
   "outputs": [],
   "source": [
    "df_menengah['InflationRate'].fillna(0, inplace=True)"
   ]
  },
  {
   "cell_type": "code",
   "execution_count": 9,
   "metadata": {},
   "outputs": [
    {
     "data": {
      "text/plain": [
       "Kota             0\n",
       "Year             0\n",
       "Month            0\n",
       "InflationRate    0\n",
       "dtype: int64"
      ]
     },
     "execution_count": 9,
     "metadata": {},
     "output_type": "execute_result"
    }
   ],
   "source": [
    "df_menengah.isnull().sum()"
   ]
  },
  {
   "cell_type": "code",
   "execution_count": 10,
   "metadata": {},
   "outputs": [
    {
     "data": {
      "text/html": [
       "<div>\n",
       "<style scoped>\n",
       "    .dataframe tbody tr th:only-of-type {\n",
       "        vertical-align: middle;\n",
       "    }\n",
       "\n",
       "    .dataframe tbody tr th {\n",
       "        vertical-align: top;\n",
       "    }\n",
       "\n",
       "    .dataframe thead th {\n",
       "        text-align: right;\n",
       "    }\n",
       "</style>\n",
       "<table border=\"1\" class=\"dataframe\">\n",
       "  <thead>\n",
       "    <tr style=\"text-align: right;\">\n",
       "      <th></th>\n",
       "      <th>Kota</th>\n",
       "      <th>Year</th>\n",
       "      <th>Month</th>\n",
       "      <th>InflationRate</th>\n",
       "      <th>Category</th>\n",
       "    </tr>\n",
       "  </thead>\n",
       "  <tbody>\n",
       "    <tr>\n",
       "      <th>0</th>\n",
       "      <td>KOTA MEULABOH</td>\n",
       "      <td>2020</td>\n",
       "      <td>1</td>\n",
       "      <td>0.0</td>\n",
       "      <td>Pendidikan</td>\n",
       "    </tr>\n",
       "    <tr>\n",
       "      <th>1</th>\n",
       "      <td>KOTA BANDA ACEH</td>\n",
       "      <td>2020</td>\n",
       "      <td>1</td>\n",
       "      <td>0.0</td>\n",
       "      <td>Pendidikan</td>\n",
       "    </tr>\n",
       "    <tr>\n",
       "      <th>2</th>\n",
       "      <td>KOTA LHOKSEUMAWE</td>\n",
       "      <td>2020</td>\n",
       "      <td>1</td>\n",
       "      <td>0.0</td>\n",
       "      <td>Pendidikan</td>\n",
       "    </tr>\n",
       "    <tr>\n",
       "      <th>3</th>\n",
       "      <td>KOTA SIBOLGA</td>\n",
       "      <td>2020</td>\n",
       "      <td>1</td>\n",
       "      <td>0.0</td>\n",
       "      <td>Pendidikan</td>\n",
       "    </tr>\n",
       "    <tr>\n",
       "      <th>4</th>\n",
       "      <td>KOTA PEMATANG SIANTAR</td>\n",
       "      <td>2020</td>\n",
       "      <td>1</td>\n",
       "      <td>0.0</td>\n",
       "      <td>Pendidikan</td>\n",
       "    </tr>\n",
       "  </tbody>\n",
       "</table>\n",
       "</div>"
      ],
      "text/plain": [
       "                    Kota  Year  Month  InflationRate    Category\n",
       "0          KOTA MEULABOH  2020      1            0.0  Pendidikan\n",
       "1        KOTA BANDA ACEH  2020      1            0.0  Pendidikan\n",
       "2       KOTA LHOKSEUMAWE  2020      1            0.0  Pendidikan\n",
       "3           KOTA SIBOLGA  2020      1            0.0  Pendidikan\n",
       "4  KOTA PEMATANG SIANTAR  2020      1            0.0  Pendidikan"
      ]
     },
     "execution_count": 10,
     "metadata": {},
     "output_type": "execute_result"
    }
   ],
   "source": [
    "df_menengah[\"Category\"] = \"Pendidikan\"\n",
    "df_menengah.head()"
   ]
  },
  {
   "cell_type": "markdown",
   "metadata": {},
   "source": [
    "### PRE-PROCESSING"
   ]
  },
  {
   "cell_type": "markdown",
   "metadata": {},
   "source": [
    "* Divide Label and Features\n",
    "* Splitting Data\n",
    "* Standard Scaler"
   ]
  },
  {
   "cell_type": "code",
   "execution_count": 11,
   "metadata": {},
   "outputs": [],
   "source": [
    "from sklearn.preprocessing import LabelEncoder\n",
    "from sklearn.preprocessing import StandardScaler\n",
    "from sklearn.model_selection import train_test_split"
   ]
  },
  {
   "cell_type": "code",
   "execution_count": 12,
   "metadata": {},
   "outputs": [],
   "source": [
    "labelEncoder = LabelEncoder()\n",
    "df_menengah['Kota'] = labelEncoder.fit_transform(df_menengah['Kota'])\n",
    "df_menengah['Category'] = labelEncoder.fit_transform(df_menengah['Category'])"
   ]
  },
  {
   "cell_type": "code",
   "execution_count": 13,
   "metadata": {},
   "outputs": [],
   "source": [
    "X = df_menengah.drop('InflationRate', axis=1)\n",
    "y = df_menengah['InflationRate']"
   ]
  },
  {
   "cell_type": "code",
   "execution_count": 14,
   "metadata": {},
   "outputs": [],
   "source": [
    "X_train, X_test, y_train, y_test = train_test_split(X, y, test_size=0.2, random_state=0)"
   ]
  },
  {
   "cell_type": "code",
   "execution_count": 15,
   "metadata": {},
   "outputs": [],
   "source": [
    "sc = StandardScaler()\n",
    "X_train = sc.fit_transform(X_train)\n",
    "X_test = sc.transform(X_test)"
   ]
  },
  {
   "cell_type": "markdown",
   "metadata": {},
   "source": [
    "### DATA MODELLING"
   ]
  },
  {
   "cell_type": "markdown",
   "metadata": {},
   "source": [
    "* Model = (Support Vector Regression) SVR\n",
    "* Model = Random Forest Regression"
   ]
  },
  {
   "cell_type": "code",
   "execution_count": 16,
   "metadata": {},
   "outputs": [],
   "source": [
    "from sklearn.svm import SVR\n",
    "from sklearn.ensemble import RandomForestRegressor\n",
    "from sklearn.linear_model import LinearRegression"
   ]
  },
  {
   "cell_type": "code",
   "execution_count": 17,
   "metadata": {},
   "outputs": [
    {
     "data": {
      "text/html": [
       "<style>#sk-container-id-1 {color: black;background-color: white;}#sk-container-id-1 pre{padding: 0;}#sk-container-id-1 div.sk-toggleable {background-color: white;}#sk-container-id-1 label.sk-toggleable__label {cursor: pointer;display: block;width: 100%;margin-bottom: 0;padding: 0.3em;box-sizing: border-box;text-align: center;}#sk-container-id-1 label.sk-toggleable__label-arrow:before {content: \"▸\";float: left;margin-right: 0.25em;color: #696969;}#sk-container-id-1 label.sk-toggleable__label-arrow:hover:before {color: black;}#sk-container-id-1 div.sk-estimator:hover label.sk-toggleable__label-arrow:before {color: black;}#sk-container-id-1 div.sk-toggleable__content {max-height: 0;max-width: 0;overflow: hidden;text-align: left;background-color: #f0f8ff;}#sk-container-id-1 div.sk-toggleable__content pre {margin: 0.2em;color: black;border-radius: 0.25em;background-color: #f0f8ff;}#sk-container-id-1 input.sk-toggleable__control:checked~div.sk-toggleable__content {max-height: 200px;max-width: 100%;overflow: auto;}#sk-container-id-1 input.sk-toggleable__control:checked~label.sk-toggleable__label-arrow:before {content: \"▾\";}#sk-container-id-1 div.sk-estimator input.sk-toggleable__control:checked~label.sk-toggleable__label {background-color: #d4ebff;}#sk-container-id-1 div.sk-label input.sk-toggleable__control:checked~label.sk-toggleable__label {background-color: #d4ebff;}#sk-container-id-1 input.sk-hidden--visually {border: 0;clip: rect(1px 1px 1px 1px);clip: rect(1px, 1px, 1px, 1px);height: 1px;margin: -1px;overflow: hidden;padding: 0;position: absolute;width: 1px;}#sk-container-id-1 div.sk-estimator {font-family: monospace;background-color: #f0f8ff;border: 1px dotted black;border-radius: 0.25em;box-sizing: border-box;margin-bottom: 0.5em;}#sk-container-id-1 div.sk-estimator:hover {background-color: #d4ebff;}#sk-container-id-1 div.sk-parallel-item::after {content: \"\";width: 100%;border-bottom: 1px solid gray;flex-grow: 1;}#sk-container-id-1 div.sk-label:hover label.sk-toggleable__label {background-color: #d4ebff;}#sk-container-id-1 div.sk-serial::before {content: \"\";position: absolute;border-left: 1px solid gray;box-sizing: border-box;top: 0;bottom: 0;left: 50%;z-index: 0;}#sk-container-id-1 div.sk-serial {display: flex;flex-direction: column;align-items: center;background-color: white;padding-right: 0.2em;padding-left: 0.2em;position: relative;}#sk-container-id-1 div.sk-item {position: relative;z-index: 1;}#sk-container-id-1 div.sk-parallel {display: flex;align-items: stretch;justify-content: center;background-color: white;position: relative;}#sk-container-id-1 div.sk-item::before, #sk-container-id-1 div.sk-parallel-item::before {content: \"\";position: absolute;border-left: 1px solid gray;box-sizing: border-box;top: 0;bottom: 0;left: 50%;z-index: -1;}#sk-container-id-1 div.sk-parallel-item {display: flex;flex-direction: column;z-index: 1;position: relative;background-color: white;}#sk-container-id-1 div.sk-parallel-item:first-child::after {align-self: flex-end;width: 50%;}#sk-container-id-1 div.sk-parallel-item:last-child::after {align-self: flex-start;width: 50%;}#sk-container-id-1 div.sk-parallel-item:only-child::after {width: 0;}#sk-container-id-1 div.sk-dashed-wrapped {border: 1px dashed gray;margin: 0 0.4em 0.5em 0.4em;box-sizing: border-box;padding-bottom: 0.4em;background-color: white;}#sk-container-id-1 div.sk-label label {font-family: monospace;font-weight: bold;display: inline-block;line-height: 1.2em;}#sk-container-id-1 div.sk-label-container {text-align: center;}#sk-container-id-1 div.sk-container {/* jupyter's `normalize.less` sets `[hidden] { display: none; }` but bootstrap.min.css set `[hidden] { display: none !important; }` so we also need the `!important` here to be able to override the default hidden behavior on the sphinx rendered scikit-learn.org. See: https://github.com/scikit-learn/scikit-learn/issues/21755 */display: inline-block !important;position: relative;}#sk-container-id-1 div.sk-text-repr-fallback {display: none;}</style><div id=\"sk-container-id-1\" class=\"sk-top-container\"><div class=\"sk-text-repr-fallback\"><pre>LinearRegression()</pre><b>In a Jupyter environment, please rerun this cell to show the HTML representation or trust the notebook. <br />On GitHub, the HTML representation is unable to render, please try loading this page with nbviewer.org.</b></div><div class=\"sk-container\" hidden><div class=\"sk-item\"><div class=\"sk-estimator sk-toggleable\"><input class=\"sk-toggleable__control sk-hidden--visually\" id=\"sk-estimator-id-1\" type=\"checkbox\" checked><label for=\"sk-estimator-id-1\" class=\"sk-toggleable__label sk-toggleable__label-arrow\">LinearRegression</label><div class=\"sk-toggleable__content\"><pre>LinearRegression()</pre></div></div></div></div></div>"
      ],
      "text/plain": [
       "LinearRegression()"
      ]
     },
     "execution_count": 17,
     "metadata": {},
     "output_type": "execute_result"
    }
   ],
   "source": [
    "model_svr = SVR(kernel='linear')\n",
    "model_rfr = RandomForestRegressor(n_estimators=10, random_state=42)\n",
    "model_lr = LinearRegression()\n",
    "model_svr.fit(X_train, y_train)\n",
    "model_rfr.fit(X_train, y_train)\n",
    "model_lr.fit(X_train, y_train)"
   ]
  },
  {
   "cell_type": "markdown",
   "metadata": {},
   "source": [
    "### CHECKING RESULT"
   ]
  },
  {
   "cell_type": "markdown",
   "metadata": {},
   "source": [
    "* Make Y Predict\n",
    "* Checking MSE, MAE, R2 Score"
   ]
  },
  {
   "cell_type": "code",
   "execution_count": 18,
   "metadata": {},
   "outputs": [],
   "source": [
    "from sklearn.metrics import mean_squared_error, mean_absolute_error, r2_score"
   ]
  },
  {
   "cell_type": "code",
   "execution_count": 19,
   "metadata": {},
   "outputs": [],
   "source": [
    "Y_pred_svr = model_svr.predict(X_train)\n",
    "Y_pred_rfr = model_rfr.predict(X_train)\n",
    "Y_pred_lr = model_lr.predict(X_train)"
   ]
  },
  {
   "cell_type": "code",
   "execution_count": 20,
   "metadata": {},
   "outputs": [
    {
     "name": "stdout",
     "output_type": "stream",
     "text": [
      "SVR\n",
      "Mean Squared Error: 1.1188904848464913\n",
      "Mean Absolute Error: 0.24674359334339827\n",
      "R^2 Score: -0.0003510090634195606\n"
     ]
    }
   ],
   "source": [
    "#SVR\n",
    "print('SVR')\n",
    "print('Mean Squared Error:', mean_squared_error(y_train, Y_pred_svr))\n",
    "print('Mean Absolute Error:', mean_absolute_error(y_train, Y_pred_svr))\n",
    "print('R^2 Score:', r2_score(y_train, Y_pred_svr))"
   ]
  },
  {
   "cell_type": "code",
   "execution_count": 21,
   "metadata": {},
   "outputs": [
    {
     "name": "stdout",
     "output_type": "stream",
     "text": [
      "Random Forest Regressor\n",
      "Mean Squared Error: 0.2933883122495707\n",
      "Mean Absolute Error: 0.1028400114481969\n",
      "R^2 Score: 0.7376943515195432\n"
     ]
    }
   ],
   "source": [
    "#Random Forest Regressor\n",
    "print('Random Forest Regressor')\n",
    "print('Mean Squared Error:', mean_squared_error(y_train, Y_pred_rfr))\n",
    "print('Mean Absolute Error:', mean_absolute_error(y_train, Y_pred_rfr))\n",
    "print('R^2 Score:', r2_score(y_train, Y_pred_rfr))\n"
   ]
  },
  {
   "cell_type": "code",
   "execution_count": 22,
   "metadata": {},
   "outputs": [
    {
     "name": "stdout",
     "output_type": "stream",
     "text": [
      "Linear Regression\n",
      "Mean Squared Error: 1.1106977937235145\n",
      "Mean Absolute Error: 0.2442924039684098\n",
      "R^2 Score: 0.00697371747846276\n"
     ]
    }
   ],
   "source": [
    "#Linear Regression\n",
    "print('Linear Regression')\n",
    "print('Mean Squared Error:', mean_squared_error(y_train, Y_pred_lr))\n",
    "print('Mean Absolute Error:', mean_absolute_error(y_train, Y_pred_lr))\n",
    "print('R^2 Score:', r2_score(y_train, Y_pred_lr))"
   ]
  },
  {
   "cell_type": "markdown",
   "metadata": {},
   "source": [
    "Dari ketiga hasil evaluasi tersebut, kita dapat mempertimbangkan untuk menilai performa model berdasarkan kriteria tertentu:\n",
    "\n",
    "- **Mean Squared Error (MSE):**\n",
    "  - Random Forest Regressor: 0.2934\n",
    "  - Linear Regression: 1.1107\n",
    "  - SVR (Support Vector Regressor): 1.1189\n",
    "\n",
    "  **Kesimpulan:** Nilai MSE yang lebih rendah menunjukkan kinerja yang lebih baik. Dengan demikian, Random Forest Regressor memiliki MSE yang paling baik.\n",
    "\n",
    "- **Mean Absolute Error (MAE):**\n",
    "  - Random Forest Regressor: 0.1028\n",
    "  - Linear Regression: 0.2443\n",
    "  - SVR: 0.2467\n",
    "\n",
    "  **Kesimpulan:** Nilai MAE yang lebih rendah menunjukkan kinerja yang lebih baik. Random Forest Regressor juga memiliki MAE yang lebih rendah.\n",
    "\n",
    "- **R^2 Score:**\n",
    "  - Random Forest Regressor: 0.7377\n",
    "  - Linear Regression: 0.0070\n",
    "  - SVR: -0.0004\n",
    "  \n",
    "  **Kesimpulan:** Nilai R^2 yang lebih tinggi menunjukkan model yang lebih baik. Random Forest Regressor memiliki R^2 yang paling tinggi, menunjukkan kemampuan model dalam menjelaskan variasi dalam data.\n",
    "\n",
    "Berdasarkan kriteria ini, secara keseluruhan, **Random Forest Regressor** tampaknya menjadi model yang paling baik di antara ketiganya."
   ]
  },
  {
   "cell_type": "markdown",
   "metadata": {},
   "source": [
    "### SAVE MODEL FOR : DF_MENENGAH"
   ]
  },
  {
   "cell_type": "code",
   "execution_count": 23,
   "metadata": {},
   "outputs": [
    {
     "data": {
      "text/plain": [
       "['model_menengah.pkl']"
      ]
     },
     "execution_count": 23,
     "metadata": {},
     "output_type": "execute_result"
    }
   ],
   "source": [
    "import joblib\n",
    "\n",
    "joblib.dump(model_rfr, 'model_menengah.pkl')"
   ]
  }
 ],
 "metadata": {
  "kernelspec": {
   "display_name": "machine_learning",
   "language": "python",
   "name": "python3"
  },
  "language_info": {
   "codemirror_mode": {
    "name": "ipython",
    "version": 3
   },
   "file_extension": ".py",
   "mimetype": "text/x-python",
   "name": "python",
   "nbconvert_exporter": "python",
   "pygments_lexer": "ipython3",
   "version": "3.11.8"
  }
 },
 "nbformat": 4,
 "nbformat_minor": 2
}
